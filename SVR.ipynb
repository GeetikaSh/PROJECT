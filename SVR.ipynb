{
  "nbformat": 4,
  "nbformat_minor": 0,
  "metadata": {
    "colab": {
      "name": "SVR.ipynb",
      "provenance": []
    },
    "kernelspec": {
      "name": "python3",
      "display_name": "Python 3"
    },
    "language_info": {
      "name": "python"
    }
  },
  "cells": [
    {
      "cell_type": "markdown",
      "source": [
        "\n",
        "\n",
        "1.   SVR allows to invest wisely and profitably."
      ],
      "metadata": {
        "id": "26oVSweB3vpB"
      }
    },
    {
      "cell_type": "code",
      "execution_count": 1,
      "metadata": {
        "id": "zoqH0JMgtql3"
      },
      "outputs": [],
      "source": [
        "import pandas as pd\n",
        "import numpy as np\n",
        "from sklearn.svm import SVR\n",
        "import matplotlib.pyplot as plt\n"
      ]
    },
    {
      "cell_type": "code",
      "source": [
        "df=pd.read_csv(\"Google_2018.csv\")"
      ],
      "metadata": {
        "id": "50XrZ-Jt17qQ"
      },
      "execution_count": 2,
      "outputs": []
    },
    {
      "cell_type": "code",
      "source": [
        "df.shape"
      ],
      "metadata": {
        "id": "KZioiLaN2EtK"
      },
      "execution_count": null,
      "outputs": []
    },
    {
      "cell_type": "code",
      "source": [
        "df=df[['Date','Close']]"
      ],
      "metadata": {
        "id": "-174SsPf2V3x"
      },
      "execution_count": 3,
      "outputs": []
    },
    {
      "cell_type": "code",
      "source": [
        "actual_price= df.tail(1)\n",
        "actual_price"
      ],
      "metadata": {
        "colab": {
          "base_uri": "https://localhost:8080/",
          "height": 81
        },
        "id": "oAFbN2u02eiu",
        "outputId": "9191de68-51e0-411b-ddf2-c84e9a2624dc"
      },
      "execution_count": 4,
      "outputs": [
        {
          "output_type": "execute_result",
          "data": {
            "text/plain": [
              "            Date       Close\n",
              "1007  2021-12-31  144.679504"
            ],
            "text/html": [
              "\n",
              "  <div id=\"df-67014d96-384b-4f2d-a6c0-f9c9c242c47a\">\n",
              "    <div class=\"colab-df-container\">\n",
              "      <div>\n",
              "<style scoped>\n",
              "    .dataframe tbody tr th:only-of-type {\n",
              "        vertical-align: middle;\n",
              "    }\n",
              "\n",
              "    .dataframe tbody tr th {\n",
              "        vertical-align: top;\n",
              "    }\n",
              "\n",
              "    .dataframe thead th {\n",
              "        text-align: right;\n",
              "    }\n",
              "</style>\n",
              "<table border=\"1\" class=\"dataframe\">\n",
              "  <thead>\n",
              "    <tr style=\"text-align: right;\">\n",
              "      <th></th>\n",
              "      <th>Date</th>\n",
              "      <th>Close</th>\n",
              "    </tr>\n",
              "  </thead>\n",
              "  <tbody>\n",
              "    <tr>\n",
              "      <th>1007</th>\n",
              "      <td>2021-12-31</td>\n",
              "      <td>144.679504</td>\n",
              "    </tr>\n",
              "  </tbody>\n",
              "</table>\n",
              "</div>\n",
              "      <button class=\"colab-df-convert\" onclick=\"convertToInteractive('df-67014d96-384b-4f2d-a6c0-f9c9c242c47a')\"\n",
              "              title=\"Convert this dataframe to an interactive table.\"\n",
              "              style=\"display:none;\">\n",
              "        \n",
              "  <svg xmlns=\"http://www.w3.org/2000/svg\" height=\"24px\"viewBox=\"0 0 24 24\"\n",
              "       width=\"24px\">\n",
              "    <path d=\"M0 0h24v24H0V0z\" fill=\"none\"/>\n",
              "    <path d=\"M18.56 5.44l.94 2.06.94-2.06 2.06-.94-2.06-.94-.94-2.06-.94 2.06-2.06.94zm-11 1L8.5 8.5l.94-2.06 2.06-.94-2.06-.94L8.5 2.5l-.94 2.06-2.06.94zm10 10l.94 2.06.94-2.06 2.06-.94-2.06-.94-.94-2.06-.94 2.06-2.06.94z\"/><path d=\"M17.41 7.96l-1.37-1.37c-.4-.4-.92-.59-1.43-.59-.52 0-1.04.2-1.43.59L10.3 9.45l-7.72 7.72c-.78.78-.78 2.05 0 2.83L4 21.41c.39.39.9.59 1.41.59.51 0 1.02-.2 1.41-.59l7.78-7.78 2.81-2.81c.8-.78.8-2.07 0-2.86zM5.41 20L4 18.59l7.72-7.72 1.47 1.35L5.41 20z\"/>\n",
              "  </svg>\n",
              "      </button>\n",
              "      \n",
              "  <style>\n",
              "    .colab-df-container {\n",
              "      display:flex;\n",
              "      flex-wrap:wrap;\n",
              "      gap: 12px;\n",
              "    }\n",
              "\n",
              "    .colab-df-convert {\n",
              "      background-color: #E8F0FE;\n",
              "      border: none;\n",
              "      border-radius: 50%;\n",
              "      cursor: pointer;\n",
              "      display: none;\n",
              "      fill: #1967D2;\n",
              "      height: 32px;\n",
              "      padding: 0 0 0 0;\n",
              "      width: 32px;\n",
              "    }\n",
              "\n",
              "    .colab-df-convert:hover {\n",
              "      background-color: #E2EBFA;\n",
              "      box-shadow: 0px 1px 2px rgba(60, 64, 67, 0.3), 0px 1px 3px 1px rgba(60, 64, 67, 0.15);\n",
              "      fill: #174EA6;\n",
              "    }\n",
              "\n",
              "    [theme=dark] .colab-df-convert {\n",
              "      background-color: #3B4455;\n",
              "      fill: #D2E3FC;\n",
              "    }\n",
              "\n",
              "    [theme=dark] .colab-df-convert:hover {\n",
              "      background-color: #434B5C;\n",
              "      box-shadow: 0px 1px 3px 1px rgba(0, 0, 0, 0.15);\n",
              "      filter: drop-shadow(0px 1px 2px rgba(0, 0, 0, 0.3));\n",
              "      fill: #FFFFFF;\n",
              "    }\n",
              "  </style>\n",
              "\n",
              "      <script>\n",
              "        const buttonEl =\n",
              "          document.querySelector('#df-67014d96-384b-4f2d-a6c0-f9c9c242c47a button.colab-df-convert');\n",
              "        buttonEl.style.display =\n",
              "          google.colab.kernel.accessAllowed ? 'block' : 'none';\n",
              "\n",
              "        async function convertToInteractive(key) {\n",
              "          const element = document.querySelector('#df-67014d96-384b-4f2d-a6c0-f9c9c242c47a');\n",
              "          const dataTable =\n",
              "            await google.colab.kernel.invokeFunction('convertToInteractive',\n",
              "                                                     [key], {});\n",
              "          if (!dataTable) return;\n",
              "\n",
              "          const docLinkHtml = 'Like what you see? Visit the ' +\n",
              "            '<a target=\"_blank\" href=https://colab.research.google.com/notebooks/data_table.ipynb>data table notebook</a>'\n",
              "            + ' to learn more about interactive tables.';\n",
              "          element.innerHTML = '';\n",
              "          dataTable['output_type'] = 'display_data';\n",
              "          await google.colab.output.renderOutput(dataTable, element);\n",
              "          const docLink = document.createElement('div');\n",
              "          docLink.innerHTML = docLinkHtml;\n",
              "          element.appendChild(docLink);\n",
              "        }\n",
              "      </script>\n",
              "    </div>\n",
              "  </div>\n",
              "  "
            ]
          },
          "metadata": {},
          "execution_count": 4
        }
      ]
    },
    {
      "cell_type": "code",
      "source": [
        "#prepare the data for training the SVR models\n",
        "df=df.head(len(df)-1)"
      ],
      "metadata": {
        "id": "6ib36dDp3zE5"
      },
      "execution_count": null,
      "outputs": []
    },
    {
      "cell_type": "code",
      "source": [
        "#create empty lists to store independent and dependent data\n",
        "days=list()\n",
        "close_price=list()"
      ],
      "metadata": {
        "id": "dwzcj3Et50kW"
      },
      "execution_count": null,
      "outputs": []
    },
    {
      "cell_type": "code",
      "source": [
        "#Get the dates and close prices\n",
        "df_days=df.loc[:,'Date']\n",
        "df_close=df.loc[:,'Close']\n",
        "df_days"
      ],
      "metadata": {
        "id": "SIog-70B50gx"
      },
      "execution_count": null,
      "outputs": []
    },
    {
      "cell_type": "code",
      "source": [
        "#Cleate the independent data set\n",
        "for day in df_days:\n",
        "  days.append(day)"
      ],
      "metadata": {
        "id": "rOXRMDkH6aKK"
      },
      "execution_count": null,
      "outputs": []
    },
    {
      "cell_type": "code",
      "source": [
        "#create the dependent data set\n",
        "for price in df_close:\n",
        "  close_price.append(float(price))"
      ],
      "metadata": {
        "id": "7I5RnZ1o7wrR"
      },
      "execution_count": null,
      "outputs": []
    },
    {
      "cell_type": "code",
      "source": [
        "print(days)\n",
        "print(close_price)"
      ],
      "metadata": {
        "id": "84Q_51Ec8Cpp"
      },
      "execution_count": null,
      "outputs": []
    },
    {
      "cell_type": "code",
      "source": [
        "#Create the 3 support vector regression models\n",
        "\n",
        "#Create and train a SVR model using a linear kernel\n",
        "lin_svr=SVR(kernel='linear',C=1000.0)\n",
        "lin_svr.fit(days,close_price)\n",
        "\n",
        "#Create and train a SVR model using a polynomial kernel\n",
        "poly_svr=SVR(kernel='poly',C=1000.0, degree=2)\n",
        "poly_svr.fit(days,close_price)\n",
        "\n",
        "#Create and train a SVR model using a rbf kernel\n",
        "rbf_svr=SVR(kernel='rbf',C=1000.0, gamma=0.15)\n",
        "rbf_svr.fit(days,close_price)"
      ],
      "metadata": {
        "id": "dhUo2ehN8u8Z"
      },
      "execution_count": null,
      "outputs": []
    },
    {
      "cell_type": "code",
      "source": [
        "#plot the model on a graph to see which has the best fit to the original data\n",
        "plt.figure(figsize=(16,8))\n",
        "plt.scatter(days,close_price,color='red',label='Data')\n",
        "plt.plot(days,rbf_svr.predict(days),color='green',label='RBF Model')\n",
        "plt.plot(days,poly_svr.predict(days),color='orange',label='Polynomial Model')\n",
        "plt.plot(days,lin_svr.predict(days),color='blue',label='Linear Model')\n",
        "plt.legend()\n",
        "plt.plot()"
      ],
      "metadata": {
        "id": "10gt51JM43DZ"
      },
      "execution_count": null,
      "outputs": []
    },
    {
      "cell_type": "code",
      "source": [
        "day=[[31]]\n",
        "print('The RBF SVR predict', rbf_svr.predict(day))\n",
        "print('The Linear SVR predict', lin_svr.predict(day))\n",
        "print('The Polynomial SVR predict', poly_svr.predict(day))"
      ],
      "metadata": {
        "id": "M5BfLVmk6kKl"
      },
      "execution_count": null,
      "outputs": []
    },
    {
      "cell_type": "markdown",
      "source": [
        "# 2.1 SVR"
      ],
      "metadata": {
        "id": "xADwXw9N8fvD"
      }
    },
    {
      "cell_type": "code",
      "source": [
        "from sklearn.metrics import accuracy_score"
      ],
      "metadata": {
        "id": "C7vm1MYW8iRT"
      },
      "execution_count": 5,
      "outputs": []
    },
    {
      "cell_type": "code",
      "source": [
        "# Making date as index column\n",
        "\n",
        "df.index = pd.to_datetime(df['Date'])\n",
        "\n",
        "# drop the column named “Date”\n",
        "\n",
        "df = df.drop(['Date'], axis='columns')\n",
        "df"
      ],
      "metadata": {
        "id": "QKQslmIQ8j76"
      },
      "execution_count": 6,
      "outputs": []
    },
    {
      "cell_type": "code",
      "source": [
        "# Target variables\n",
        "\n",
        "y = np.where(df['Close'].shift(-1) > df['Close'], 1, 0)\n",
        "\n",
        "print(y)"
      ],
      "metadata": {
        "id": "pNKNAJnK9Byn",
        "outputId": "58897aeb-bfe4-400c-f056-37cb2223049f",
        "colab": {
          "base_uri": "https://localhost:8080/"
        }
      },
      "execution_count": 9,
      "outputs": [
        {
          "output_type": "stream",
          "name": "stdout",
          "text": [
            "[1 1 1 ... 0 0 0]\n"
          ]
        }
      ]
    },
    {
      "cell_type": "code",
      "source": [
        "  X=df[['Close']]"
      ],
      "metadata": {
        "id": "VhUs_wWO9TqG"
      },
      "execution_count": 10,
      "outputs": []
    },
    {
      "cell_type": "code",
      "source": [
        "split = int(0.9*len(df))\n",
        "\n",
        "# Train data set\n",
        "\n",
        "X_train = X[:split]\n",
        "\n",
        "y_train = y[:split]\n",
        "\n",
        "# Test data set\n",
        "\n",
        "X_test = X[split:]\n",
        "\n",
        "y_test = y[split:]"
      ],
      "metadata": {
        "id": "T5I1FepE9PFe"
      },
      "execution_count": 11,
      "outputs": []
    },
    {
      "cell_type": "code",
      "source": [
        "# Support vector classifier\n",
        "from sklearn.svm import SVC\n",
        "model = SVC().fit(X_train, y_train)"
      ],
      "metadata": {
        "id": "vqZoISPQ9aln"
      },
      "execution_count": 13,
      "outputs": []
    },
    {
      "cell_type": "code",
      "source": [
        "df['sig'] = model.predict(X)"
      ],
      "metadata": {
        "id": "bghhiBr39sRw"
      },
      "execution_count": 14,
      "outputs": []
    },
    {
      "cell_type": "code",
      "source": [
        "df"
      ],
      "metadata": {
        "id": "vTLf9pMA9uH-",
        "outputId": "540f5a81-d5bd-4031-a039-c6490fb32765",
        "colab": {
          "base_uri": "https://localhost:8080/",
          "height": 455
        }
      },
      "execution_count": 15,
      "outputs": [
        {
          "output_type": "execute_result",
          "data": {
            "text/plain": [
              "                 Close  sig\n",
              "Date                       \n",
              "2018-01-02   53.250000    1\n",
              "2018-01-03   54.124001    1\n",
              "2018-01-04   54.320000    1\n",
              "2018-01-05   55.111500    1\n",
              "2018-01-08   55.347000    1\n",
              "...                ...  ...\n",
              "2021-12-27  148.063995    1\n",
              "2021-12-28  146.447998    1\n",
              "2021-12-29  146.504501    1\n",
              "2021-12-30  146.002502    1\n",
              "2021-12-31  144.679504    1\n",
              "\n",
              "[1008 rows x 2 columns]"
            ],
            "text/html": [
              "\n",
              "  <div id=\"df-67e3fa15-373a-4e24-9694-878cf4eee72b\">\n",
              "    <div class=\"colab-df-container\">\n",
              "      <div>\n",
              "<style scoped>\n",
              "    .dataframe tbody tr th:only-of-type {\n",
              "        vertical-align: middle;\n",
              "    }\n",
              "\n",
              "    .dataframe tbody tr th {\n",
              "        vertical-align: top;\n",
              "    }\n",
              "\n",
              "    .dataframe thead th {\n",
              "        text-align: right;\n",
              "    }\n",
              "</style>\n",
              "<table border=\"1\" class=\"dataframe\">\n",
              "  <thead>\n",
              "    <tr style=\"text-align: right;\">\n",
              "      <th></th>\n",
              "      <th>Close</th>\n",
              "      <th>sig</th>\n",
              "    </tr>\n",
              "    <tr>\n",
              "      <th>Date</th>\n",
              "      <th></th>\n",
              "      <th></th>\n",
              "    </tr>\n",
              "  </thead>\n",
              "  <tbody>\n",
              "    <tr>\n",
              "      <th>2018-01-02</th>\n",
              "      <td>53.250000</td>\n",
              "      <td>1</td>\n",
              "    </tr>\n",
              "    <tr>\n",
              "      <th>2018-01-03</th>\n",
              "      <td>54.124001</td>\n",
              "      <td>1</td>\n",
              "    </tr>\n",
              "    <tr>\n",
              "      <th>2018-01-04</th>\n",
              "      <td>54.320000</td>\n",
              "      <td>1</td>\n",
              "    </tr>\n",
              "    <tr>\n",
              "      <th>2018-01-05</th>\n",
              "      <td>55.111500</td>\n",
              "      <td>1</td>\n",
              "    </tr>\n",
              "    <tr>\n",
              "      <th>2018-01-08</th>\n",
              "      <td>55.347000</td>\n",
              "      <td>1</td>\n",
              "    </tr>\n",
              "    <tr>\n",
              "      <th>...</th>\n",
              "      <td>...</td>\n",
              "      <td>...</td>\n",
              "    </tr>\n",
              "    <tr>\n",
              "      <th>2021-12-27</th>\n",
              "      <td>148.063995</td>\n",
              "      <td>1</td>\n",
              "    </tr>\n",
              "    <tr>\n",
              "      <th>2021-12-28</th>\n",
              "      <td>146.447998</td>\n",
              "      <td>1</td>\n",
              "    </tr>\n",
              "    <tr>\n",
              "      <th>2021-12-29</th>\n",
              "      <td>146.504501</td>\n",
              "      <td>1</td>\n",
              "    </tr>\n",
              "    <tr>\n",
              "      <th>2021-12-30</th>\n",
              "      <td>146.002502</td>\n",
              "      <td>1</td>\n",
              "    </tr>\n",
              "    <tr>\n",
              "      <th>2021-12-31</th>\n",
              "      <td>144.679504</td>\n",
              "      <td>1</td>\n",
              "    </tr>\n",
              "  </tbody>\n",
              "</table>\n",
              "<p>1008 rows × 2 columns</p>\n",
              "</div>\n",
              "      <button class=\"colab-df-convert\" onclick=\"convertToInteractive('df-67e3fa15-373a-4e24-9694-878cf4eee72b')\"\n",
              "              title=\"Convert this dataframe to an interactive table.\"\n",
              "              style=\"display:none;\">\n",
              "        \n",
              "  <svg xmlns=\"http://www.w3.org/2000/svg\" height=\"24px\"viewBox=\"0 0 24 24\"\n",
              "       width=\"24px\">\n",
              "    <path d=\"M0 0h24v24H0V0z\" fill=\"none\"/>\n",
              "    <path d=\"M18.56 5.44l.94 2.06.94-2.06 2.06-.94-2.06-.94-.94-2.06-.94 2.06-2.06.94zm-11 1L8.5 8.5l.94-2.06 2.06-.94-2.06-.94L8.5 2.5l-.94 2.06-2.06.94zm10 10l.94 2.06.94-2.06 2.06-.94-2.06-.94-.94-2.06-.94 2.06-2.06.94z\"/><path d=\"M17.41 7.96l-1.37-1.37c-.4-.4-.92-.59-1.43-.59-.52 0-1.04.2-1.43.59L10.3 9.45l-7.72 7.72c-.78.78-.78 2.05 0 2.83L4 21.41c.39.39.9.59 1.41.59.51 0 1.02-.2 1.41-.59l7.78-7.78 2.81-2.81c.8-.78.8-2.07 0-2.86zM5.41 20L4 18.59l7.72-7.72 1.47 1.35L5.41 20z\"/>\n",
              "  </svg>\n",
              "      </button>\n",
              "      \n",
              "  <style>\n",
              "    .colab-df-container {\n",
              "      display:flex;\n",
              "      flex-wrap:wrap;\n",
              "      gap: 12px;\n",
              "    }\n",
              "\n",
              "    .colab-df-convert {\n",
              "      background-color: #E8F0FE;\n",
              "      border: none;\n",
              "      border-radius: 50%;\n",
              "      cursor: pointer;\n",
              "      display: none;\n",
              "      fill: #1967D2;\n",
              "      height: 32px;\n",
              "      padding: 0 0 0 0;\n",
              "      width: 32px;\n",
              "    }\n",
              "\n",
              "    .colab-df-convert:hover {\n",
              "      background-color: #E2EBFA;\n",
              "      box-shadow: 0px 1px 2px rgba(60, 64, 67, 0.3), 0px 1px 3px 1px rgba(60, 64, 67, 0.15);\n",
              "      fill: #174EA6;\n",
              "    }\n",
              "\n",
              "    [theme=dark] .colab-df-convert {\n",
              "      background-color: #3B4455;\n",
              "      fill: #D2E3FC;\n",
              "    }\n",
              "\n",
              "    [theme=dark] .colab-df-convert:hover {\n",
              "      background-color: #434B5C;\n",
              "      box-shadow: 0px 1px 3px 1px rgba(0, 0, 0, 0.15);\n",
              "      filter: drop-shadow(0px 1px 2px rgba(0, 0, 0, 0.3));\n",
              "      fill: #FFFFFF;\n",
              "    }\n",
              "  </style>\n",
              "\n",
              "      <script>\n",
              "        const buttonEl =\n",
              "          document.querySelector('#df-67e3fa15-373a-4e24-9694-878cf4eee72b button.colab-df-convert');\n",
              "        buttonEl.style.display =\n",
              "          google.colab.kernel.accessAllowed ? 'block' : 'none';\n",
              "\n",
              "        async function convertToInteractive(key) {\n",
              "          const element = document.querySelector('#df-67e3fa15-373a-4e24-9694-878cf4eee72b');\n",
              "          const dataTable =\n",
              "            await google.colab.kernel.invokeFunction('convertToInteractive',\n",
              "                                                     [key], {});\n",
              "          if (!dataTable) return;\n",
              "\n",
              "          const docLinkHtml = 'Like what you see? Visit the ' +\n",
              "            '<a target=\"_blank\" href=https://colab.research.google.com/notebooks/data_table.ipynb>data table notebook</a>'\n",
              "            + ' to learn more about interactive tables.';\n",
              "          element.innerHTML = '';\n",
              "          dataTable['output_type'] = 'display_data';\n",
              "          await google.colab.output.renderOutput(dataTable, element);\n",
              "          const docLink = document.createElement('div');\n",
              "          docLink.innerHTML = docLinkHtml;\n",
              "          element.appendChild(docLink);\n",
              "        }\n",
              "      </script>\n",
              "    </div>\n",
              "  </div>\n",
              "  "
            ]
          },
          "metadata": {},
          "execution_count": 15
        }
      ]
    },
    {
      "cell_type": "markdown",
      "source": [
        " # Attept 3"
      ],
      "metadata": {
        "id": "oO8nIpnG-uFs"
      }
    },
    {
      "cell_type": "code",
      "source": [
        "df=df[['Date','Close']]\n",
        "# Making date as index column\n",
        "\n",
        "df.index = pd.to_datetime(df['Date'])\n",
        "\n",
        "# drop the column named “Date”\n",
        "\n",
        "df = df.drop(['Date'], axis='columns')"
      ],
      "metadata": {
        "id": "hiNmeFm9-tGq"
      },
      "execution_count": 4,
      "outputs": []
    },
    {
      "cell_type": "code",
      "source": [
        "future_days=5"
      ],
      "metadata": {
        "id": "ILjB9KHb-8Jg"
      },
      "execution_count": 5,
      "outputs": []
    },
    {
      "cell_type": "code",
      "source": [
        "#Create a new column\n",
        "df[str(future_days)+'_Day_Price_Forecast']=df[['Close']].shift(-future_days)\n",
        "df[['Close',str(future_days)+'_Day_Price_Forecast']]"
      ],
      "metadata": {
        "id": "AMj4pslk_CTZ",
        "outputId": "96a74af4-f317-4caa-f5e8-5cb0ac808912",
        "colab": {
          "base_uri": "https://localhost:8080/",
          "height": 455
        }
      },
      "execution_count": 6,
      "outputs": [
        {
          "output_type": "execute_result",
          "data": {
            "text/plain": [
              "                 Close  5_Day_Price_Forecast\n",
              "Date                                        \n",
              "2018-01-02   53.250000             55.313000\n",
              "2018-01-03   54.124001             55.130501\n",
              "2018-01-04   54.320000             55.276001\n",
              "2018-01-05   55.111500             56.112999\n",
              "2018-01-08   55.347000             56.088001\n",
              "...                ...                   ...\n",
              "2021-12-27  148.063995                   NaN\n",
              "2021-12-28  146.447998                   NaN\n",
              "2021-12-29  146.504501                   NaN\n",
              "2021-12-30  146.002502                   NaN\n",
              "2021-12-31  144.679504                   NaN\n",
              "\n",
              "[1008 rows x 2 columns]"
            ],
            "text/html": [
              "\n",
              "  <div id=\"df-1f9508e9-651d-434f-bd48-263de06cbb97\">\n",
              "    <div class=\"colab-df-container\">\n",
              "      <div>\n",
              "<style scoped>\n",
              "    .dataframe tbody tr th:only-of-type {\n",
              "        vertical-align: middle;\n",
              "    }\n",
              "\n",
              "    .dataframe tbody tr th {\n",
              "        vertical-align: top;\n",
              "    }\n",
              "\n",
              "    .dataframe thead th {\n",
              "        text-align: right;\n",
              "    }\n",
              "</style>\n",
              "<table border=\"1\" class=\"dataframe\">\n",
              "  <thead>\n",
              "    <tr style=\"text-align: right;\">\n",
              "      <th></th>\n",
              "      <th>Close</th>\n",
              "      <th>5_Day_Price_Forecast</th>\n",
              "    </tr>\n",
              "    <tr>\n",
              "      <th>Date</th>\n",
              "      <th></th>\n",
              "      <th></th>\n",
              "    </tr>\n",
              "  </thead>\n",
              "  <tbody>\n",
              "    <tr>\n",
              "      <th>2018-01-02</th>\n",
              "      <td>53.250000</td>\n",
              "      <td>55.313000</td>\n",
              "    </tr>\n",
              "    <tr>\n",
              "      <th>2018-01-03</th>\n",
              "      <td>54.124001</td>\n",
              "      <td>55.130501</td>\n",
              "    </tr>\n",
              "    <tr>\n",
              "      <th>2018-01-04</th>\n",
              "      <td>54.320000</td>\n",
              "      <td>55.276001</td>\n",
              "    </tr>\n",
              "    <tr>\n",
              "      <th>2018-01-05</th>\n",
              "      <td>55.111500</td>\n",
              "      <td>56.112999</td>\n",
              "    </tr>\n",
              "    <tr>\n",
              "      <th>2018-01-08</th>\n",
              "      <td>55.347000</td>\n",
              "      <td>56.088001</td>\n",
              "    </tr>\n",
              "    <tr>\n",
              "      <th>...</th>\n",
              "      <td>...</td>\n",
              "      <td>...</td>\n",
              "    </tr>\n",
              "    <tr>\n",
              "      <th>2021-12-27</th>\n",
              "      <td>148.063995</td>\n",
              "      <td>NaN</td>\n",
              "    </tr>\n",
              "    <tr>\n",
              "      <th>2021-12-28</th>\n",
              "      <td>146.447998</td>\n",
              "      <td>NaN</td>\n",
              "    </tr>\n",
              "    <tr>\n",
              "      <th>2021-12-29</th>\n",
              "      <td>146.504501</td>\n",
              "      <td>NaN</td>\n",
              "    </tr>\n",
              "    <tr>\n",
              "      <th>2021-12-30</th>\n",
              "      <td>146.002502</td>\n",
              "      <td>NaN</td>\n",
              "    </tr>\n",
              "    <tr>\n",
              "      <th>2021-12-31</th>\n",
              "      <td>144.679504</td>\n",
              "      <td>NaN</td>\n",
              "    </tr>\n",
              "  </tbody>\n",
              "</table>\n",
              "<p>1008 rows × 2 columns</p>\n",
              "</div>\n",
              "      <button class=\"colab-df-convert\" onclick=\"convertToInteractive('df-1f9508e9-651d-434f-bd48-263de06cbb97')\"\n",
              "              title=\"Convert this dataframe to an interactive table.\"\n",
              "              style=\"display:none;\">\n",
              "        \n",
              "  <svg xmlns=\"http://www.w3.org/2000/svg\" height=\"24px\"viewBox=\"0 0 24 24\"\n",
              "       width=\"24px\">\n",
              "    <path d=\"M0 0h24v24H0V0z\" fill=\"none\"/>\n",
              "    <path d=\"M18.56 5.44l.94 2.06.94-2.06 2.06-.94-2.06-.94-.94-2.06-.94 2.06-2.06.94zm-11 1L8.5 8.5l.94-2.06 2.06-.94-2.06-.94L8.5 2.5l-.94 2.06-2.06.94zm10 10l.94 2.06.94-2.06 2.06-.94-2.06-.94-.94-2.06-.94 2.06-2.06.94z\"/><path d=\"M17.41 7.96l-1.37-1.37c-.4-.4-.92-.59-1.43-.59-.52 0-1.04.2-1.43.59L10.3 9.45l-7.72 7.72c-.78.78-.78 2.05 0 2.83L4 21.41c.39.39.9.59 1.41.59.51 0 1.02-.2 1.41-.59l7.78-7.78 2.81-2.81c.8-.78.8-2.07 0-2.86zM5.41 20L4 18.59l7.72-7.72 1.47 1.35L5.41 20z\"/>\n",
              "  </svg>\n",
              "      </button>\n",
              "      \n",
              "  <style>\n",
              "    .colab-df-container {\n",
              "      display:flex;\n",
              "      flex-wrap:wrap;\n",
              "      gap: 12px;\n",
              "    }\n",
              "\n",
              "    .colab-df-convert {\n",
              "      background-color: #E8F0FE;\n",
              "      border: none;\n",
              "      border-radius: 50%;\n",
              "      cursor: pointer;\n",
              "      display: none;\n",
              "      fill: #1967D2;\n",
              "      height: 32px;\n",
              "      padding: 0 0 0 0;\n",
              "      width: 32px;\n",
              "    }\n",
              "\n",
              "    .colab-df-convert:hover {\n",
              "      background-color: #E2EBFA;\n",
              "      box-shadow: 0px 1px 2px rgba(60, 64, 67, 0.3), 0px 1px 3px 1px rgba(60, 64, 67, 0.15);\n",
              "      fill: #174EA6;\n",
              "    }\n",
              "\n",
              "    [theme=dark] .colab-df-convert {\n",
              "      background-color: #3B4455;\n",
              "      fill: #D2E3FC;\n",
              "    }\n",
              "\n",
              "    [theme=dark] .colab-df-convert:hover {\n",
              "      background-color: #434B5C;\n",
              "      box-shadow: 0px 1px 3px 1px rgba(0, 0, 0, 0.15);\n",
              "      filter: drop-shadow(0px 1px 2px rgba(0, 0, 0, 0.3));\n",
              "      fill: #FFFFFF;\n",
              "    }\n",
              "  </style>\n",
              "\n",
              "      <script>\n",
              "        const buttonEl =\n",
              "          document.querySelector('#df-1f9508e9-651d-434f-bd48-263de06cbb97 button.colab-df-convert');\n",
              "        buttonEl.style.display =\n",
              "          google.colab.kernel.accessAllowed ? 'block' : 'none';\n",
              "\n",
              "        async function convertToInteractive(key) {\n",
              "          const element = document.querySelector('#df-1f9508e9-651d-434f-bd48-263de06cbb97');\n",
              "          const dataTable =\n",
              "            await google.colab.kernel.invokeFunction('convertToInteractive',\n",
              "                                                     [key], {});\n",
              "          if (!dataTable) return;\n",
              "\n",
              "          const docLinkHtml = 'Like what you see? Visit the ' +\n",
              "            '<a target=\"_blank\" href=https://colab.research.google.com/notebooks/data_table.ipynb>data table notebook</a>'\n",
              "            + ' to learn more about interactive tables.';\n",
              "          element.innerHTML = '';\n",
              "          dataTable['output_type'] = 'display_data';\n",
              "          await google.colab.output.renderOutput(dataTable, element);\n",
              "          const docLink = document.createElement('div');\n",
              "          docLink.innerHTML = docLinkHtml;\n",
              "          element.appendChild(docLink);\n",
              "        }\n",
              "      </script>\n",
              "    </div>\n",
              "  </div>\n",
              "  "
            ]
          },
          "metadata": {},
          "execution_count": 6
        }
      ]
    },
    {
      "cell_type": "code",
      "source": [
        "X=np.array(df[['Close']])\n",
        "X=X[:df.shape[0]-future_days]"
      ],
      "metadata": {
        "id": "HKJC97_2_1kT"
      },
      "execution_count": 7,
      "outputs": []
    },
    {
      "cell_type": "code",
      "source": [
        "y=np.array(df[str(future_days)+'_Day_Price_Forecast'])\n",
        "y=y[:-future_days]"
      ],
      "metadata": {
        "id": "7Ved16x8Rugp"
      },
      "execution_count": 8,
      "outputs": []
    },
    {
      "cell_type": "code",
      "source": [
        "#Split the data\n",
        "from sklearn.model_selection import train_test_split\n",
        "X_train,X_test,y_train,y_test=train_test_split(X,y,test_size=0.2)\n"
      ],
      "metadata": {
        "id": "uhH8D1r3Vd5k"
      },
      "execution_count": 9,
      "outputs": []
    },
    {
      "cell_type": "code",
      "source": [
        "from sklearn.svm import SVR\n",
        "svr_rbf=SVR(kernel='rbf',C=1e3,gamma=0.00001)\n",
        "svr_rbf.fit(X_train,y_train)"
      ],
      "metadata": {
        "id": "TSUkhkC8V75b",
        "outputId": "b1ce17c2-aa0b-491d-d53e-02c95f3c9234",
        "colab": {
          "base_uri": "https://localhost:8080/"
        }
      },
      "execution_count": 10,
      "outputs": [
        {
          "output_type": "execute_result",
          "data": {
            "text/plain": [
              "SVR(C=1000.0, gamma=1e-05)"
            ]
          },
          "metadata": {},
          "execution_count": 10
        }
      ]
    },
    {
      "cell_type": "code",
      "source": [
        "svr_rbf_confidence= svr_rbf.score(X_test,y_test)\n",
        "print('svr_rbf accuracy:',svr_rbf_confidence)"
      ],
      "metadata": {
        "id": "3T1PPd4GWSHm",
        "outputId": "68a48b71-7265-4676-c7aa-a238b1db8d25",
        "colab": {
          "base_uri": "https://localhost:8080/"
        }
      },
      "execution_count": 11,
      "outputs": [
        {
          "output_type": "stream",
          "name": "stdout",
          "text": [
            "svr_rbf accuracy: 0.993159122272831\n"
          ]
        }
      ]
    },
    {
      "cell_type": "code",
      "source": [
        "svm_prediction=svr_rbf.predict(X_test)"
      ],
      "metadata": {
        "id": "hcyhvhZoWm1p"
      },
      "execution_count": 12,
      "outputs": []
    },
    {
      "cell_type": "code",
      "source": [
        "print(svm_prediction)\n",
        "print('\\n')\n",
        "print(y_test)"
      ],
      "metadata": {
        "id": "FXaXZHw1WxlO",
        "outputId": "aac13d47-8b59-4617-c35a-a5965424264d",
        "colab": {
          "base_uri": "https://localhost:8080/"
        }
      },
      "execution_count": 13,
      "outputs": [
        {
          "output_type": "stream",
          "name": "stdout",
          "text": [
            "[ 87.52640494 139.87950977  62.11851969  54.965959   116.46868516\n",
            "  64.22223928  89.91011029  73.04181824 146.87222217  67.60175164\n",
            "  53.3907856   60.17829662 140.31124445  55.20687628  73.42303656\n",
            "  58.0006453   57.32745485  59.44186567  74.84674127  96.05606255\n",
            " 146.78850191  71.5444735   56.14235575  54.50910371  64.9046674\n",
            "  58.42753518  53.15879479 142.93654252 145.26827136  70.79150887\n",
            "  63.52911775  76.10296382 144.16563747  89.93009669  52.1551202\n",
            " 116.18447375  58.82606003  92.29653786  72.02943704  75.91919007\n",
            "  78.37530645  68.23542667  59.04678307  60.35437299  72.16834089\n",
            "  52.62339924  60.64149704  54.28381409  80.13726816  54.4462659\n",
            "  72.18507403 103.06892087  57.07990231  58.7273896   60.60267539\n",
            "  67.67531985  90.76693334  58.63567966  57.47378139  55.37707298\n",
            "  53.3335106   56.20791904  65.47839041  76.45582467  76.08514356\n",
            "  89.33463243  53.04431821  59.63902989 145.72066267  72.43861039\n",
            "  64.97741389  80.28334243  54.7915095  107.63312068  67.81694303\n",
            "  58.55488875 138.14996123  82.89546353  67.60175164  54.01451842\n",
            "  54.02383395 148.28849821  55.73442773  82.37990153  58.63716591\n",
            "  74.52492679  55.64136713  58.841432    72.43809965  56.2532773\n",
            "  57.64389114 104.59933748  68.05841569  56.43820558  57.62114094\n",
            "  76.31731151  60.14497824 102.94809439  63.0588431   56.48950465\n",
            "  79.69299934 147.26071427 121.22133141  75.5430965   60.05597978\n",
            "  57.03939759  59.60922743  75.24547712  73.72212575  60.7764109\n",
            " 102.46314505  54.87110665  55.9373558  102.33358931  88.748926\n",
            "  60.0634371   75.29837591  79.6250961   65.65971188  56.34696175\n",
            "  57.34524997  64.99898997 104.25766855  63.66226699  54.26222496\n",
            "  58.91334609 149.00678833  71.91589915 135.45377869  56.16305826\n",
            "  69.86333901 143.82245237 117.63560487  58.97187384 127.56786546\n",
            "  68.46392956 139.62569421 103.80127261  64.42673426 104.28058448\n",
            "  71.14030331  51.41508238 146.9083619   54.00519937  52.38943284\n",
            "  56.46977235  67.1640257   51.5441651   59.2110294   56.55955916\n",
            "  52.30642814  52.69962799 105.94963863  70.61641338  55.13753421\n",
            "  58.51226981 137.54209721  74.46952528  56.45596066  74.81064011\n",
            "  55.80435792 144.57486506 104.49038021  62.80936154 132.16743902\n",
            "  59.07109557 128.45819015  76.58976983  54.44234096  68.23088617\n",
            " 129.85826105  54.46443043  74.18390489  57.22466146  59.29838698\n",
            " 148.07568903  54.5395467   53.36141313  89.26955345 142.88956658\n",
            " 137.3041941   63.45504684 147.2022599   53.81058192  57.3788624\n",
            "  78.53854046  54.06110575  53.51466812 103.39871273  56.23355588\n",
            "  52.45389209 124.55603236  67.85877589  53.11231479  61.28601525\n",
            "  52.03509153  69.11127498  58.03529648  72.72925467  56.51121009\n",
            "  88.19451256]\n",
            "\n",
            "\n",
            "[ 89.90499878 141.41200256  61.9355011   54.54949951 120.45349884\n",
            "  67.43299866  86.74299622  71.59850311 143.77650452  68.0585022\n",
            "  53.30749893  57.44850159 135.98950195  57.1875      72.41149902\n",
            "  55.89749908  60.83399963  60.14749908  72.79199982 104.64550018\n",
            " 149.06199646  69.45549774  55.80250168  52.60499954  67.1780014\n",
            "  56.78649902  53.93600082 148.03649902 144.22050476  70.83650208\n",
            "  63.16049957  78.28600311 148.10600281  86.55049896  54.38499832\n",
            " 115.76499939  58.31349945  89.20649719  73.22599792  79.02100372\n",
            "  80.21299744  70.13999939  58.30450058  59.23099899  74.29699707\n",
            "  48.97700119  61.81850052  56.57949829  81.30149841  54.39849854\n",
            "  73.96150208 102.79750061  54.75049973  59.67350006  61.05500031\n",
            "  67.6309967   90.92749786  58.49700165  55.18149948  53.31800079\n",
            "  57.3409996   58.10150146  65.2480011   75.90750122  75.90000153\n",
            "  88.44400024  53.83850098  60.27500153 144.88349915  74.22000122\n",
            "  64.95950317  75.83100128  55.5625     104.75849915  67.47949982\n",
            "  58.11899948 137.8999939   79.55200195  68.36849976  53.03099823\n",
            "  52.85950089 149.24099731  56.87549973  82.09200287  58.11500168\n",
            "  77.93000031  53.30199814  60.29999924  72.80799866  57.89300156\n",
            "  57.31650162 113.27200317  68.01999664  56.72299957  54.54650116\n",
            "  75.59349823  58.40950012 102.21800232  63.04949951  60.57249832\n",
            "  81.71649933 144.67950439 115.80799866  73.24849701  60.24649811\n",
            "  58.2120018   60.27500153  75.3864975   74.3010025   62.46500015\n",
            " 102.75150299  54.7784996   57.47449875 103.32450104  86.76450348\n",
            "  59.7215004   71.41449738  82.22049713  67.03099823  52.21699905\n",
            "  54.88550186  64.90000153 102.16000366  63.68700027  54.45299911\n",
            "  55.19900131 146.71749878  71.91950226 137.35400391  57.00849915\n",
            "  68.65950012 139.64649963 119.75849915  60.56900024 127.28199768\n",
            "  71.4865036  141.09950256 102.77700043  55.99000168 104.79450226\n",
            "  74.80000305  52.73949814 141.61799622  54.49499893  52.69549942\n",
            "  57.48149872  64.76699829  51.8655014   55.59500122  57.79050064\n",
            "  53.81399918  51.88050079 101.33550262  69.1969986   52.18299866\n",
            "  56.04199982 143.82200623  76.03700256  54.8484993   75.43399811\n",
            "  56.08800125 141.92100525 101.92949677  60.86299896 136.79649353\n",
            "  60.29600143 126.36849976  70.76049805  55.97499847  67.59449768\n",
            " 130.56399536  54.24950027  75.33100128  51.07849884  57.5644989\n",
            " 144.97050476  55.78450012  54.9129982   91.39749908 146.44799805\n",
            " 140.05599976  63.00550079 142.45199585  53.78300095  56.70750046\n",
            "  80.76650238  52.88949966  56.98300171 103.4315033   57.70249939\n",
            "  51.         126.35199738  68.62799835  55.56700134  63.33050156\n",
            "  52.41049957  70.89199829  57.88299942  72.92099762  55.18450165\n",
            "  86.94249725]\n"
          ]
        }
      ]
    },
    {
      "cell_type": "code",
      "source": [
        "plt.figure(figsize=(12,4))\n",
        "plt.plot(svm_prediction,label='prediction',lw=2,alpha=0.7)\n",
        "plt.plot(y_test,label='Actual Value', lw=2, alpha=0.7)\n",
        "plt.title('Prediction v/s Actual')\n",
        "plt.ylabel('Price in USD')\n",
        "plt.xlabel('Time')\n",
        "plt.legend()\n",
        "plt.show()"
      ],
      "metadata": {
        "id": "2YSFJ8aAXRJ0",
        "outputId": "63506a8c-63ff-4db4-e962-6a6d8d2de21b",
        "colab": {
          "base_uri": "https://localhost:8080/",
          "height": 265
        }
      },
      "execution_count": 14,
      "outputs": [
        {
          "output_type": "display_data",
          "data": {
            "text/plain": [
              "<Figure size 864x288 with 1 Axes>"
            ],
            "image/png": "[encoded data removed]"
          },
          "metadata": {
            "needs_background": "light"
          }
        }
      ]
    },
    {
      "cell_type": "code",
      "source": [
        ""
      ],
      "metadata": {
        "id": "C9fK0SVXGSMy"
      },
      "execution_count": null,
      "outputs": []
    }
  ]
}